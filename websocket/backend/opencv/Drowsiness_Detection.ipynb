{
 "cells": [
  {
   "cell_type": "code",
   "execution_count": 1,
   "metadata": {},
   "outputs": [],
   "source": [
    "from scipy.spatial import distance\n",
    "from imutils import face_utils\n",
    "import imutils\n",
    "import dlib\n",
    "#Para instalar no Windows: pip install https://pypi.python.org/packages/da/06/bd3e241c4eb0a662914b3b4875fc52dd176a9db0d4a2c915ac2ad8800e9e/dlib-19.7.0-cp36-cp36m-win_amd64.whl#md5=b7330a5b2d46420343fbed5df69e6a3f\n",
    "import cv2\n",
    "import sys\n",
    "sys.path.append('opencv')\n",
    "sys.path.append('evertonsavio')\n",
    "from face import executeOpenCV"
   ]
  },
  {
   "cell_type": "code",
   "execution_count": 2,
   "metadata": {},
   "outputs": [
    {
     "name": "stdout",
     "output_type": "stream",
     "text": [
      "Aproxime-se da camera\n",
      "Aproxime-se da camera\n",
      "Aproxime-se da camera\n",
      "Aproxime-se da camera\n",
      "Aproxime-se da camera\n",
      "Aproxime-se da camera\n",
      "Aproxime-se da camera\n",
      "Aproxime-se da camera\n",
      "Aproxime-se da camera\n",
      "Aproxime-se da camera\n",
      "Aproxime-se da camera\n",
      "Aproxime-se da camera\n",
      "Aproxime-se da camera\n",
      "Aproxime-se da camera\n",
      "Aproxime-se da camera\n",
      "Aproxime-se da camera\n",
      "Aproxime-se da camera\n",
      "Aproxime-se da camera\n",
      "Aproxime-se da camera\n",
      "Aproxime-se da camera\n",
      "Aproxime-se da camera\n",
      "Aproxime-se da camera\n",
      "Aproxime-se da camera\n",
      "Aproxime-se da camera\n",
      "Aproxime-se da camera\n",
      "Aproxime-se da camera\n",
      "Aproxime-se da camera\n",
      "Aproxime-se da camera\n",
      "Aproxime-se da camera\n",
      "Aproxime-se da camera\n",
      "Aproxime-se da camera\n",
      "Aproxime-se da camera\n",
      "Aproxime-se da camera\n",
      "Aproxime-se da camera\n",
      "Aproxime-se da camera\n"
     ]
    }
   ],
   "source": [
    "cap=cv2.VideoCapture(0)\n",
    "flag=0\n",
    "\n",
    "while True:\n",
    "    \n",
    "    ret, frame=cap.read() #.read():Grabs, decodes and returns the next video frame.\n",
    "    frame = imutils.resize(frame, width=450) #resizing image to maximum of 450 pixels. cv2.resize() can also do the same but in order to\n",
    "                                     #maintain aspect ratio imutils.resize() is used.\n",
    "    try:\n",
    "        frame, flag = executeOpenCV(frame, flag)\n",
    "    except: print('Aproxime-se da camera')\n",
    "    \n",
    "    cv2.imshow(\"Frame\", frame)\n",
    "    \n",
    "    key = cv2.waitKey(1) & 0xFF\n",
    "    if key == ord(\"q\"):\n",
    "        #to cleanup the camera and close any open windows\n",
    "        cv2.destroyAllWindows()\n",
    "        cap.release()\n",
    "        break"
   ]
  },
  {
   "cell_type": "code",
   "execution_count": null,
   "metadata": {},
   "outputs": [],
   "source": []
  }
 ],
 "metadata": {
  "kernelspec": {
   "display_name": "Python 3",
   "language": "python",
   "name": "python3"
  },
  "language_info": {
   "codemirror_mode": {
    "name": "ipython",
    "version": 3
   },
   "file_extension": ".py",
   "mimetype": "text/x-python",
   "name": "python",
   "nbconvert_exporter": "python",
   "pygments_lexer": "ipython3",
   "version": "3.6.7"
  }
 },
 "nbformat": 4,
 "nbformat_minor": 2
}
